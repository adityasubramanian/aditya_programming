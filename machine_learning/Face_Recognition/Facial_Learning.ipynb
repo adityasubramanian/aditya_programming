{
 "cells": [
  {
   "cell_type": "code",
   "execution_count": 1,
   "metadata": {
    "collapsed": true
   },
   "outputs": [],
   "source": [
    "import time\n",
    "import matplotlib.pyplot as plt\n",
    "import numpy as np\n",
    "from sklearn import datasets\n",
    "from sklearn.cluster import MiniBatchKMeans\n",
    "from sklearn.feature_extraction.image import extract_patches_2d"
   ]
  },
  {
   "cell_type": "code",
   "execution_count": 2,
   "metadata": {
    "collapsed": false
   },
   "outputs": [
    {
     "name": "stdout",
     "output_type": "stream",
     "text": [
      "downloading Olivetti faces from http://cs.nyu.edu/~roweis/data/olivettifaces.mat to /Users/srsubramanian/scikit_learn_data\n"
     ]
    }
   ],
   "source": [
    "faces = datasets.fetch_olivetti_faces()"
   ]
  },
  {
   "cell_type": "code",
   "execution_count": 3,
   "metadata": {
    "collapsed": false
   },
   "outputs": [
    {
     "name": "stdout",
     "output_type": "stream",
     "text": [
      "Learning the dictionary. \n"
     ]
    }
   ],
   "source": [
    "print('Learning the dictionary. ')\n",
    "rng = np.random.RandomState(0)\n",
    "kmeans = MiniBatchKMeans(n_clusters=81, random_state=rng, verbose=True)\n",
    "patch_size = (20, 20)"
   ]
  },
  {
   "cell_type": "code",
   "execution_count": 4,
   "metadata": {
    "collapsed": true
   },
   "outputs": [],
   "source": [
    "buffer = []\n",
    "index = 1\n",
    "t0 = time.time()"
   ]
  },
  {
   "cell_type": "code",
   "execution_count": 5,
   "metadata": {
    "collapsed": false
   },
   "outputs": [
    {
     "name": "stdout",
     "output_type": "stream",
     "text": [
      "Partial fit of  100 out of 2400\n",
      "Partial fit of  200 out of 2400\n",
      "[MiniBatchKMeans] Reassigning 16 cluster centers.\n",
      "Partial fit of  300 out of 2400\n",
      "Partial fit of  400 out of 2400\n",
      "Partial fit of  500 out of 2400\n",
      "Partial fit of  600 out of 2400\n",
      "Partial fit of  700 out of 2400\n",
      "Partial fit of  800 out of 2400\n",
      "Partial fit of  900 out of 2400\n",
      "Partial fit of 1000 out of 2400\n",
      "Partial fit of 1100 out of 2400\n",
      "Partial fit of 1200 out of 2400\n",
      "Partial fit of 1300 out of 2400\n",
      "Partial fit of 1400 out of 2400\n",
      "Partial fit of 1500 out of 2400\n",
      "Partial fit of 1600 out of 2400\n",
      "Partial fit of 1700 out of 2400\n",
      "Partial fit of 1800 out of 2400\n",
      "Partial fit of 1900 out of 2400\n",
      "Partial fit of 2000 out of 2400\n",
      "Partial fit of 2100 out of 2400\n",
      "Partial fit of 2200 out of 2400\n",
      "Partial fit of 2300 out of 2400\n",
      "Partial fit of 2400 out of 2400\n",
      "done in 13.71s.\n"
     ]
    }
   ],
   "source": [
    "index = 0\n",
    "for _ in range(6):\n",
    "    for img in faces.images:\n",
    "        data = extract_patches_2d(img, patch_size, max_patches=50,\n",
    "                                  random_state=rng)\n",
    "        data = np.reshape(data, (len(data), -1))\n",
    "        buffer.append(data)\n",
    "        index += 1\n",
    "        if index % 10 == 0:\n",
    "            data = np.concatenate(buffer, axis=0)\n",
    "            data -= np.mean(data, axis=0)\n",
    "            data /= np.std(data, axis=0)\n",
    "            kmeans.partial_fit(data)\n",
    "            buffer = []\n",
    "        if index % 100 == 0:\n",
    "            print('Partial fit of %4i out of %i'\n",
    "                  % (index, 6 * len(faces.images)))\n",
    "\n",
    "dt = time.time() - t0\n",
    "print('done in %.2fs.' % dt)"
   ]
  },
  {
   "cell_type": "code",
   "execution_count": 6,
   "metadata": {
    "collapsed": true
   },
   "outputs": [],
   "source": [
    "plt.figure(figsize=(4.2, 4))\n",
    "for i, patch in enumerate(kmeans.cluster_centers_):\n",
    "    plt.subplot(9, 9, i + 1)\n",
    "    plt.imshow(patch.reshape(patch_size), cmap=plt.cm.gray,\n",
    "               interpolation='nearest')\n",
    "    plt.xticks(())\n",
    "    plt.yticks(())"
   ]
  },
  {
   "cell_type": "code",
   "execution_count": 7,
   "metadata": {
    "collapsed": true
   },
   "outputs": [],
   "source": [
    "plt.suptitle('Patches of faces\\nTrain time %.1fs on %d patches' %\n",
    "             (dt, 8 * len(faces.images)), fontsize=16)\n",
    "plt.subplots_adjust(0.08, 0.02, 0.92, 0.85, 0.08, 0.23)\n",
    "\n",
    "plt.show()"
   ]
  },
  {
   "cell_type": "code",
   "execution_count": null,
   "metadata": {
    "collapsed": true
   },
   "outputs": [],
   "source": []
  },
  {
   "cell_type": "code",
   "execution_count": null,
   "metadata": {
    "collapsed": true
   },
   "outputs": [],
   "source": []
  }
 ],
 "metadata": {
  "kernelspec": {
   "display_name": "Python 2",
   "language": "python",
   "name": "python2"
  },
  "language_info": {
   "codemirror_mode": {
    "name": "ipython",
    "version": 2
   },
   "file_extension": ".py",
   "mimetype": "text/x-python",
   "name": "python",
   "nbconvert_exporter": "python",
   "pygments_lexer": "ipython2",
   "version": "2.7.10"
  }
 },
 "nbformat": 4,
 "nbformat_minor": 0
}
