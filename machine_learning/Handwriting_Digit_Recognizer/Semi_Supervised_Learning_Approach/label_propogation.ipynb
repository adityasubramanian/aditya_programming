{
 "cells": [
  {
   "cell_type": "code",
   "execution_count": null,
   "metadata": {
    "collapsed": false
   },
   "outputs": [],
   "source": [
    "import numpy as np\n",
    "import matplotlib.pyplot as plt \n",
    "\n",
    "from scipy import stats\n",
    "from sklearn import datasets\n",
    "from sklearn.semi_supervised import label_propagation\n",
    "\n",
    "from sklearn.metrics import confusion_matrix, classification_report \n"
   ]
  },
  {
   "cell_type": "code",
   "execution_count": null,
   "metadata": {
    "collapsed": false
   },
   "outputs": [],
   "source": [
    "digits = datasets.load_digits()\n",
    "rng = np.random.RandomState(0) # sets the seed()\n",
    "indices = np.arange(len(digits.data))  # provides equally spaced intervals between the length of the data digits\n",
    "rng.shuffle(indices)\n",
    "\n",
    "print(rng)\n",
    "print(indices)\n",
    "print(rng.shuffle(indices))\n"
   ]
  },
  {
   "cell_type": "code",
   "execution_count": null,
   "metadata": {
    "collapsed": false
   },
   "outputs": [],
   "source": [
    "X = digits.data[indices[:200]]\n",
    "y = digits.target[indices[:200]]\n",
    "images = digits.images[indices[:200]]\n",
    "\n",
    "n_total_samples = len(y)\n",
    "n_labeled_points = 30\n",
    "\n",
    "indices = np.arange(n_total_samples)\n",
    "\n",
    "unlabeled_set = indices[n_labeled_points:]\n",
    "\n",
    "# shuffle everything around\n",
    "y_train = np.copy(y)\n",
    "y_train[unlabeled_set] = -1"
   ]
  },
  {
   "cell_type": "code",
   "execution_count": null,
   "metadata": {
    "collapsed": false
   },
   "outputs": [],
   "source": [
    "label_propogation_model = label_propagation.LabelSpreading(gamma=0.25, max_iter=5)\n",
    "label_propogation_model.fit(X,y_train)\n",
    "\n",
    "predicted_models = label_propogation_model.transduction_[unlabeled_set] \n",
    "true_labels = y[unlabeled_set]\n",
    "\n",
    "confusion_matrix_data = confusion_matrix(true_labels, predicted_models, labels = label_propogation_model.classes_) \n",
    "\n",
    "print(\"Label Spreading model: %d labeled & %d unlabeled points (%d total)\" % (n_labeled_points, n_total_samples - \n",
    "                                                                              n_labeled_points, n_total_samples)) \n",
    "print(classification_report(true_labels, predicted_models))\n",
    "\n",
    "                                                            \n"
   ]
  },
  {
   "cell_type": "code",
   "execution_count": null,
   "metadata": {
    "collapsed": false
   },
   "outputs": [],
   "source": [
    "print \"Confusion Matrix:\"\n",
    "print confusion_matrix_data"
   ]
  },
  {
   "cell_type": "code",
   "execution_count": null,
   "metadata": {
    "collapsed": true
   },
   "outputs": [],
   "source": [
    "prediction_entropies = stats.distributions.entropy(label_propogation_model.label_distributions_.T) \n",
    "uncertainity = np.argsort(prediction_entropies)[-10:]"
   ]
  },
  {
   "cell_type": "code",
   "execution_count": 51,
   "metadata": {
    "collapsed": false
   },
   "outputs": [],
   "source": [
    "figure = plt.figure(figsize=(7,5))\n",
    "for index, image_index in enumerate(uncertainity):\n",
    "    image = images[image_index]\n",
    "    sub = figure.add_subplot(2,5,index+1) \n",
    "    sub.imshow(image,cmap=plt.cm.gray_r)\n",
    "    plt.xticks([])\n",
    "    plt.yticks([])\n",
    "    sub.set_title('predict: %i\\ntrue: %i' % (label_propogation_model.transduction_[image_index], y[image_index]))\n",
    "figure.suptitle('Semi supervised learning')\n",
    "plt.show() "
   ]
  },
  {
   "cell_type": "code",
   "execution_count": null,
   "metadata": {
    "collapsed": true
   },
   "outputs": [],
   "source": []
  },
  {
   "cell_type": "code",
   "execution_count": null,
   "metadata": {
    "collapsed": true
   },
   "outputs": [],
   "source": []
  },
  {
   "cell_type": "code",
   "execution_count": null,
   "metadata": {
    "collapsed": true
   },
   "outputs": [],
   "source": []
  }
 ],
 "metadata": {
  "kernelspec": {
   "display_name": "Python 2",
   "language": "python",
   "name": "python2"
  },
  "language_info": {
   "codemirror_mode": {
    "name": "ipython",
    "version": 2
   },
   "file_extension": ".py",
   "mimetype": "text/x-python",
   "name": "python",
   "nbconvert_exporter": "python",
   "pygments_lexer": "ipython2",
   "version": "2.7.6"
  }
 },
 "nbformat": 4,
 "nbformat_minor": 0
}
