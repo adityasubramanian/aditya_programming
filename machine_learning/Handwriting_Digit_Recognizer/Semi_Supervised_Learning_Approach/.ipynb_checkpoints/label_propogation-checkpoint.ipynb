{
 "cells": [
  {
   "cell_type": "code",
   "execution_count": 20,
   "metadata": {
    "collapsed": false
   },
   "outputs": [],
   "source": [
    "import numpy as np\n",
    "import matplotlib.pyplot as plt \n",
    "\n",
    "from scipy import stats\n",
    "from sklearn import datasets\n",
    "from sklearn.semi_supervised import label_propagation\n",
    "\n",
    "from sklearn.metrics import confusion_matrix, classification_report \n"
   ]
  },
  {
   "cell_type": "code",
   "execution_count": 21,
   "metadata": {
    "collapsed": false
   },
   "outputs": [
    {
     "name": "stdout",
     "output_type": "stream",
     "text": [
      "<mtrand.RandomState object at 0x7f969816a918>\n",
      "[1081 1707  927 ..., 1653  559  684]\n",
      "None\n"
     ]
    }
   ],
   "source": [
    "digits = datasets.load_digits()\n",
    "rng = np.random.RandomState(0) # sets the seed()\n",
    "indices = np.arange(len(digits.data))  # provides equally spaced intervals between the length of the data digits\n",
    "rng.shuffle(indices)\n",
    "\n",
    "print(rng)\n",
    "print(indices)\n",
    "print(rng.shuffle(indices))\n"
   ]
  },
  {
   "cell_type": "code",
   "execution_count": 27,
   "metadata": {
    "collapsed": false
   },
   "outputs": [],
   "source": [
    "X = digits.data[indices[:80]]\n",
    "y = digits.target[indices[:80]]\n",
    "images = digits.images[indices[:80]]\n",
    "\n",
    "n_total_samples = len(y)\n",
    "n_labeled_points = 30\n",
    "\n",
    "indices = np.arange(n_total_samples)\n",
    "\n",
    "unlabeled_set = indices[n_labeled_points:]\n",
    "\n",
    "# shuffle everything around\n",
    "y_train = np.copy(y)\n",
    "y_train[unlabeled_set] = -1"
   ]
  },
  {
   "cell_type": "code",
   "execution_count": 28,
   "metadata": {
    "collapsed": false
   },
   "outputs": [
    {
     "name": "stdout",
     "output_type": "stream",
     "text": [
      "Label Spreading model: 30 labeled & 70 unlabeled points (100 total)\n",
      "             precision    recall  f1-score   support\n",
      "\n",
      "          0       1.00      1.00      1.00         8\n",
      "          1       1.00      1.00      1.00         9\n",
      "          2       1.00      1.00      1.00         7\n",
      "          3       1.00      1.00      1.00         9\n",
      "          4       1.00      1.00      1.00         5\n",
      "          5       1.00      0.83      0.91         6\n",
      "          6       1.00      1.00      1.00         8\n",
      "          7       1.00      1.00      1.00         7\n",
      "          8       0.83      1.00      0.91         5\n",
      "          9       0.83      0.83      0.83         6\n",
      "\n",
      "avg / total       0.97      0.97      0.97        70\n",
      "\n"
     ]
    }
   ],
   "source": [
    "label_propogation_model = label_propagation.LabelSpreading(gamma=0.25, max_iter=5)\n",
    "label_propogation_model.fit(X,y_train)\n",
    "\n",
    "predicted_models = label_propogation_model.transduction_[unlabeled_set] \n",
    "true_labels = y[unlabeled_set]\n",
    "\n",
    "confusion_matrix_data = confusion_matrix(true_labels, predicted_models, labels = label_propogation_model.classes_) \n",
    "\n",
    "print(\"Label Spreading model: %d labeled & %d unlabeled points (%d total)\" % (n_labeled_points, n_total_samples - \n",
    "                                                                              n_labeled_points, n_total_samples)) \n",
    "print(classification_report(true_labels, predicted_models))\n",
    "\n",
    "                                                            \n"
   ]
  },
  {
   "cell_type": "code",
   "execution_count": 29,
   "metadata": {
    "collapsed": false
   },
   "outputs": [
    {
     "name": "stdout",
     "output_type": "stream",
     "text": [
      "Confusion Matrix:\n",
      "[[8 0 0 0 0 0 0 0 0 0]\n",
      " [0 9 0 0 0 0 0 0 0 0]\n",
      " [0 0 7 0 0 0 0 0 0 0]\n",
      " [0 0 0 9 0 0 0 0 0 0]\n",
      " [0 0 0 0 5 0 0 0 0 0]\n",
      " [0 0 0 0 0 5 0 0 0 1]\n",
      " [0 0 0 0 0 0 8 0 0 0]\n",
      " [0 0 0 0 0 0 0 7 0 0]\n",
      " [0 0 0 0 0 0 0 0 5 0]\n",
      " [0 0 0 0 0 0 0 0 1 5]]\n"
     ]
    }
   ],
   "source": [
    "print \"Confusion Matrix:\"\n",
    "print confusion_matrix_data"
   ]
  },
  {
   "cell_type": "code",
   "execution_count": 30,
   "metadata": {
    "collapsed": true
   },
   "outputs": [],
   "source": [
    "prediction_entropies = stats.distributions.entropy(label_propogation_model.label_distributions_.T) \n",
    "uncertainity = np.argsort(prediction_entropies)[-10:]"
   ]
  },
  {
   "cell_type": "code",
   "execution_count": null,
   "metadata": {
    "collapsed": false
   },
   "outputs": [],
   "source": [
    "figure = plt.figure(figsize=(7,5))\n",
    "for index, image_index in enumerate(uncertainity):\n",
    "    image = images[image_index]\n",
    "    sub = figure.add_subplot(2,5,index+1) \n",
    "    sub.imshow(image,cmap=plt.cm.gray_r)\n",
    "    plt.xticks([])\n",
    "    plt.yticks([])\n",
    "    sub.set_title('predict: %i\\ntrue: %i' % (label_propogation_model.transduction_[image_index], y[image_index]))\n",
    "figure.suptitle('Semi supervised learning')\n",
    "plt.show() "
   ]
  },
  {
   "cell_type": "code",
   "execution_count": null,
   "metadata": {
    "collapsed": true
   },
   "outputs": [],
   "source": []
  },
  {
   "cell_type": "code",
   "execution_count": null,
   "metadata": {
    "collapsed": true
   },
   "outputs": [],
   "source": []
  }
 ],
 "metadata": {
  "kernelspec": {
   "display_name": "Python 2",
   "language": "python",
   "name": "python2"
  },
  "language_info": {
   "codemirror_mode": {
    "name": "ipython",
    "version": 2
   },
   "file_extension": ".py",
   "mimetype": "text/x-python",
   "name": "python",
   "nbconvert_exporter": "python",
   "pygments_lexer": "ipython2",
   "version": "2.7.6"
  }
 },
 "nbformat": 4,
 "nbformat_minor": 0
}
