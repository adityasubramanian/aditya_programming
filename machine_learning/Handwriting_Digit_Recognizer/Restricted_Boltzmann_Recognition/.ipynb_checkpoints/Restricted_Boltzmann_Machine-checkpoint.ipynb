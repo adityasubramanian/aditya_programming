{
 "cells": [
  {
   "cell_type": "code",
   "execution_count": 3,
   "metadata": {
    "collapsed": false
   },
   "outputs": [],
   "source": [
    "import numpy as np\n",
    "import matplotlib.pyplot as plt \n",
    "from scipy.ndimage import convolve\n",
    "from sklearn import datasets, linear_model, metrics \n",
    "from sklearn.cross_validation import train_test_split \n",
    "from sklearn.neural_network import BernoulliRBM\n",
    "from sklearn.pipeline import Pipeline \n"
   ]
  },
  {
   "cell_type": "code",
   "execution_count": 11,
   "metadata": {
    "collapsed": true
   },
   "outputs": [],
   "source": [
    "def create_dataset(x,y):\n",
    "    direction_vectors = [\n",
    "        [\n",
    "            [0,1,0],\n",
    "            [0,0,0],\n",
    "            [0,0,0],\n",
    "        ],\n",
    "        [\n",
    "            [0,0,0],\n",
    "            [1,0,0],\n",
    "            [0,0,0],\n",
    "        ],\n",
    "        [\n",
    "            [0,0,0],\n",
    "            [0,0,1],\n",
    "            [0,0,0],\n",
    "        ],\n",
    "        [\n",
    "            [0,0,0],\n",
    "            [0,0,0],\n",
    "            [0,0,1],\n",
    "        ]\n",
    "    ]\n",
    "    shift = lambda x,w: convolve(x.reshape((8,8)),mode = 'constant', weights = w).ravel()\n",
    "    x = np.concatenate([x] +\n",
    "                       [np.apply_along_axis(shift, 1, x, vector)\n",
    "                        for vector in direction_vectors])\n",
    "    y = np.concatenate([y for _ in range(5)], axis=0)\n",
    "    return x, y"
   ]
  },
  {
   "cell_type": "code",
   "execution_count": 12,
   "metadata": {
    "collapsed": false
   },
   "outputs": [],
   "source": [
    "digits = datasets.load_digits()\n",
    "x = np.asarray(digits.data, 'float32')\n",
    "x, y = create_dataset(x, digits.target)\n",
    "x = (x - np.min(x, 0)) / (np.max(x, 0) + 0.0001)  \n",
    "X_train, X_test, Y_train, Y_test = train_test_split(x, y,\n",
    "                                                    test_size=0.2,\n",
    "                                                    random_state=0)\n",
    "logistic = linear_model.LogisticRegression()\n",
    "rbm = BernoulliRBM(random_state=0, verbose=True)\n",
    "classifier = Pipeline(steps=[('rbm', rbm), ('logistic', logistic)])"
   ]
  },
  {
   "cell_type": "code",
   "execution_count": null,
   "metadata": {
    "collapsed": true
   },
   "outputs": [],
   "source": []
  },
  {
   "cell_type": "code",
   "execution_count": null,
   "metadata": {
    "collapsed": true
   },
   "outputs": [],
   "source": []
  }
 ],
 "metadata": {
  "kernelspec": {
   "display_name": "Python 2",
   "language": "python",
   "name": "python2"
  },
  "language_info": {
   "codemirror_mode": {
    "name": "ipython",
    "version": 2
   },
   "file_extension": ".py",
   "mimetype": "text/x-python",
   "name": "python",
   "nbconvert_exporter": "python",
   "pygments_lexer": "ipython2",
   "version": "2.7.6"
  }
 },
 "nbformat": 4,
 "nbformat_minor": 0
}
