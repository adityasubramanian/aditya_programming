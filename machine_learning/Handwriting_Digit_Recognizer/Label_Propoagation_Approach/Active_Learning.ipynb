{
 "cells": [
  {
   "cell_type": "code",
   "execution_count": 35,
   "metadata": {
    "collapsed": true
   },
   "outputs": [],
   "source": [
    "import numpy as np\n",
    "import matplotlib.pyplot as plt\n",
    "from scipy import stats\n",
    "from sklearn import datasets\n",
    "from sklearn.semi_supervised import label_propagation\n",
    "from sklearn.metrics import classification_report, confusion_matrix "
   ]
  },
  {
   "cell_type": "code",
   "execution_count": 36,
   "metadata": {
    "collapsed": true
   },
   "outputs": [],
   "source": [
    "problem_data = datasets.load_digits()\n",
    "rng = np.random.RandomState(0)\n",
    "threshold = np.arange(len(problem_data.data))\n",
    "rng.shuffle(threshold)"
   ]
  },
  {
   "cell_type": "code",
   "execution_count": 37,
   "metadata": {
    "collapsed": false
   },
   "outputs": [],
   "source": [
    "x = problem_data.data[threshold[:200]]\n",
    "y = problem_data.target[threshold[:200]]\n",
    "images= problem_data.images[threshold[:200]]\n",
    "\n",
    "if (len(x) == len(y)):\n",
    "    total_samples = len(x)\n",
    "    total_points = 10\n",
    "else: \n",
    "    total_samples = null \n",
    "    total_points = null "
   ]
  },
  {
   "cell_type": "code",
   "execution_count": 38,
   "metadata": {
    "collapsed": true
   },
   "outputs": [],
   "source": [
    "unlabeled_points = np.arange(total_samples)[total_points:]\n",
    "figure = plt.figure() "
   ]
  },
  {
   "cell_type": "code",
   "execution_count": 46,
   "metadata": {
    "collapsed": false
   },
   "outputs": [
    {
     "name": "stdout",
     "output_type": "stream",
     "text": [
      "Iteration 0 ______________________________________________________________________\n",
      "Label Spreading model: 10 labeled & 190 unlabeled (200 total)\n",
      "             precision    recall  f1-score   support\n",
      "\n",
      "          0       0.00      0.00      0.00        14\n",
      "          1       0.62      0.53      0.57        19\n",
      "          2       0.52      0.93      0.67        14\n",
      "          3       0.00      0.00      0.00        14\n",
      "          4       0.00      0.00      0.00        12\n",
      "          5       1.00      0.32      0.48        22\n",
      "          6       0.83      0.96      0.89        25\n",
      "          7       0.66      1.00      0.79        23\n",
      "          8       0.46      0.74      0.57        23\n",
      "          9       0.44      0.75      0.55        24\n",
      "\n",
      "avg / total       0.52      0.59      0.51       190\n",
      "\n",
      "Confusion Matrix\n",
      "[[10  5  0  0  0  2  2]\n",
      " [ 0 13  0  0  1  0  0]\n",
      " [ 0  0  7  5  0  4  6]\n",
      " [ 1  0  0 24  0  0  0]\n",
      " [ 0  0  0  0 23  0  0]\n",
      " [ 3  3  0  0  0 17  0]\n",
      " [ 0  0  0  0  1  5 18]]\n",
      "Iteration 1 ______________________________________________________________________\n",
      "Label Spreading model: 10 labeled & 190 unlabeled (200 total)\n",
      "             precision    recall  f1-score   support\n",
      "\n",
      "          0       0.00      0.00      0.00        14\n",
      "          1       0.62      0.53      0.57        19\n",
      "          2       0.52      0.93      0.67        14\n",
      "          3       0.00      0.00      0.00        14\n",
      "          4       0.00      0.00      0.00        12\n",
      "          5       1.00      0.32      0.48        22\n",
      "          6       0.83      0.96      0.89        25\n",
      "          7       0.66      1.00      0.79        23\n",
      "          8       0.46      0.74      0.57        23\n",
      "          9       0.44      0.75      0.55        24\n",
      "\n",
      "avg / total       0.52      0.59      0.51       190\n",
      "\n",
      "Confusion Matrix\n",
      "[[10  5  0  0  0  2  2]\n",
      " [ 0 13  0  0  1  0  0]\n",
      " [ 0  0  7  5  0  4  6]\n",
      " [ 1  0  0 24  0  0  0]\n",
      " [ 0  0  0  0 23  0  0]\n",
      " [ 3  3  0  0  0 17  0]\n",
      " [ 0  0  0  0  1  5 18]]\n",
      "Iteration 2 ______________________________________________________________________\n",
      "Label Spreading model: 10 labeled & 190 unlabeled (200 total)\n",
      "             precision    recall  f1-score   support\n",
      "\n",
      "          0       0.00      0.00      0.00        14\n",
      "          1       0.62      0.53      0.57        19\n",
      "          2       0.52      0.93      0.67        14\n",
      "          3       0.00      0.00      0.00        14\n",
      "          4       0.00      0.00      0.00        12\n",
      "          5       1.00      0.32      0.48        22\n",
      "          6       0.83      0.96      0.89        25\n",
      "          7       0.66      1.00      0.79        23\n",
      "          8       0.46      0.74      0.57        23\n",
      "          9       0.44      0.75      0.55        24\n",
      "\n",
      "avg / total       0.52      0.59      0.51       190\n",
      "\n",
      "Confusion Matrix\n",
      "[[10  5  0  0  0  2  2]\n",
      " [ 0 13  0  0  1  0  0]\n",
      " [ 0  0  7  5  0  4  6]\n",
      " [ 1  0  0 24  0  0  0]\n",
      " [ 0  0  0  0 23  0  0]\n",
      " [ 3  3  0  0  0 17  0]\n",
      " [ 0  0  0  0  1  5 18]]\n",
      "Iteration 3 ______________________________________________________________________\n",
      "Label Spreading model: 10 labeled & 190 unlabeled (200 total)\n",
      "             precision    recall  f1-score   support\n",
      "\n",
      "          0       0.00      0.00      0.00        14\n",
      "          1       0.62      0.53      0.57        19\n",
      "          2       0.52      0.93      0.67        14\n",
      "          3       0.00      0.00      0.00        14\n",
      "          4       0.00      0.00      0.00        12\n",
      "          5       1.00      0.32      0.48        22\n",
      "          6       0.83      0.96      0.89        25\n",
      "          7       0.66      1.00      0.79        23\n",
      "          8       0.46      0.74      0.57        23\n",
      "          9       0.44      0.75      0.55        24\n",
      "\n",
      "avg / total       0.52      0.59      0.51       190\n",
      "\n",
      "Confusion Matrix\n",
      "[[10  5  0  0  0  2  2]\n",
      " [ 0 13  0  0  1  0  0]\n",
      " [ 0  0  7  5  0  4  6]\n",
      " [ 1  0  0 24  0  0  0]\n",
      " [ 0  0  0  0 23  0  0]\n",
      " [ 3  3  0  0  0 17  0]\n",
      " [ 0  0  0  0  1  5 18]]\n",
      "Iteration 4 ______________________________________________________________________\n",
      "Label Spreading model: 10 labeled & 190 unlabeled (200 total)\n",
      "             precision    recall  f1-score   support\n",
      "\n",
      "          0       0.00      0.00      0.00        14\n",
      "          1       0.62      0.53      0.57        19\n",
      "          2       0.52      0.93      0.67        14\n",
      "          3       0.00      0.00      0.00        14\n",
      "          4       0.00      0.00      0.00        12\n",
      "          5       1.00      0.32      0.48        22\n",
      "          6       0.83      0.96      0.89        25\n",
      "          7       0.66      1.00      0.79        23\n",
      "          8       0.46      0.74      0.57        23\n",
      "          9       0.44      0.75      0.55        24\n",
      "\n",
      "avg / total       0.52      0.59      0.51       190\n",
      "\n",
      "Confusion Matrix\n",
      "[[10  5  0  0  0  2  2]\n",
      " [ 0 13  0  0  1  0  0]\n",
      " [ 0  0  7  5  0  4  6]\n",
      " [ 1  0  0 24  0  0  0]\n",
      " [ 0  0  0  0 23  0  0]\n",
      " [ 3  3  0  0  0 17  0]\n",
      " [ 0  0  0  0  1  5 18]]\n"
     ]
    }
   ],
   "source": [
    "for i in range(5):\n",
    "    train_y = np.copy(y)\n",
    "    train_y[unlabeled_points] = -1\n",
    "    label_propogation_model = label_propagation.LabelSpreading(gamma=0.25,\n",
    "                                                              max_iter=5)\n",
    "    label_propogation_model.fit(x,train_y)\n",
    "    predicted_labels = label_propogation_model.transduction_[unlabeled_points]\n",
    "    accurate_labels = y[unlabeled_points]\n",
    "    \n",
    "    confusion = confusion_matrix(accurate_labels, predicted_labels,\n",
    "                                labels = label_propogation_model.classes_)\n",
    "    \n",
    "    print('Iteration %i %s' % (i, 70 * '_'))\n",
    "    print(\"Label Spreading model: %d labeled & %d unlabeled (%d total)\"\n",
    "         % (total_points,total_samples - total_points,total_samples))\n",
    "    print(classification_report(accurate_labels,predicted_labels))\n",
    "    print(\"Confusion Matrix\") \n",
    "    print(confusion) "
   ]
  },
  {
   "cell_type": "code",
   "execution_count": 40,
   "metadata": {
    "collapsed": false
   },
   "outputs": [
    {
     "name": "stdout",
     "output_type": "stream",
     "text": [
      "[  7.28669513e-060   3.46650821e-059   2.77786898e-059   4.47663068e-113\n",
      "   5.33217165e-095   7.31565538e-060   1.50822540e-064   2.13843484e-088\n",
      "   2.66892424e-076   3.60445299e-111   4.81753868e-040   4.30783476e-025\n",
      "   5.15536719e-074   4.25624784e-042   4.63445243e-017   3.04485734e-052\n",
      "   5.72546936e-015   2.53475170e-043   2.70696961e-021   4.24094185e-003\n",
      "   2.13600535e-019   6.61986992e-016   4.97390362e-066   2.44769451e-031\n",
      "   1.03697655e-066   4.86593001e-006   3.04978893e-029   1.73218264e-021\n",
      "   1.54231967e-062   1.26138640e-019   2.13340848e-033   7.00792986e-060\n",
      "   6.66482573e-095   8.82525188e-039   4.79057827e-025   5.10159688e-053\n",
      "   2.62880171e-026   1.73244246e-004   2.54952979e-043   9.66557907e-042\n",
      "   8.23273411e-021   1.67469405e-087   1.81119965e-064   8.65983907e-060\n",
      "   1.60994854e-043   2.05820285e-043   9.48987357e-064   5.27373904e-019\n",
      "   7.91133984e-041   2.26889313e-033   4.88791281e-023   2.16757389e-031\n",
      "   8.08512786e-067   5.54877842e-002   2.54952969e-043   2.54953012e-043\n",
      "   2.67650574e-024   1.52894494e-003   2.64225985e-096   3.97307674e-014\n",
      "   6.06866633e-034   1.86248018e-057   7.09103415e-009   6.56483182e-022\n",
      "   5.43431449e-040   1.45988569e-022   5.97522188e-014   1.53065031e-004\n",
      "   9.83932790e-003   4.71463527e-002   9.83534899e-033   1.49906889e-005\n",
      "   3.88324907e-110   4.75578528e-012   3.28289004e-053   1.35975538e-046\n",
      "   1.84842552e-062   7.25442347e-060   1.26138640e-019   8.65976533e-060\n",
      "   6.30170198e-046   2.26520322e-007   2.59421696e-027   2.54952945e-043\n",
      "   4.06333416e-025   8.83515570e-020   7.28496148e-060   1.83847650e-110\n",
      "   2.41364758e-033   1.14133551e-062   3.96096420e-068   7.33189860e-067\n",
      "   1.83245643e-027   3.06667552e-016   2.88165956e-054   1.81119965e-064\n",
      "   6.58309216e-040   1.96725656e-023   4.25484341e-006   1.15230335e-038\n",
      "   7.35930985e-108   6.64693692e-015   1.49527046e-043   4.97768421e-052\n",
      "   4.26132208e-008   4.54504536e-035   4.29512338e-008   5.47985952e-022\n",
      "   1.50801158e-020   4.42561292e-060   1.53467450e-005   1.84885465e-027\n",
      "   1.92899026e-019   7.84919222e-022   8.60800392e-060   1.58852157e-005\n",
      "   4.81218227e-026   3.29717904e-017   3.45609323e-024   3.51976386e-008\n",
      "   8.31385883e-044   6.59231746e-021   1.09923223e-019   2.93439290e-009\n",
      "   8.77906363e-007   6.46980070e-046   1.69204697e-035   9.01394456e-067\n",
      "   3.10739674e-008   1.05102312e-046   2.18732080e-045   1.09924395e-039\n",
      "   2.82520206e-023   5.87497295e-001   2.79618604e-039   2.21031541e-004\n",
      "   5.00609475e-107   4.81605350e-056   1.45250527e-002   6.40298290e-110\n",
      "   2.17548674e-014   3.63595629e-007   1.73922395e-031   5.02857851e-067\n",
      "   2.13928325e-077   1.92142320e-040   3.40874117e-109   1.20322785e-009\n",
      "   6.62034485e-005   2.76608878e-021   8.83541182e-088   3.07192244e-002\n",
      "   2.13798166e-014   4.27127295e-003   4.70683042e-067   6.97667342e-010\n",
      "   1.10762373e-005   1.18775317e-066   1.30154152e-049   7.01438959e-060\n",
      "   9.54576675e-027   2.75833883e-054   6.40402032e-095   1.93292688e-065\n",
      "   1.29459154e-085   1.89569765e-008   2.05637745e-031   6.98419037e-026\n",
      "   4.00429381e-025   1.40562756e-045   3.21564581e-002   1.55262091e-031\n",
      "   5.36159125e-044   3.91378059e-048   2.82697372e-041   5.18482602e-018\n",
      "   1.83246835e-027   3.63529838e-007   7.25346789e-081   5.40363988e-006\n",
      "   4.22032870e-016   3.79883322e-003   1.05048618e-046   2.44907319e-001\n",
      "   2.05582220e-041   9.97171583e-008   2.00645185e-007   4.84811912e-027\n",
      "   2.54952945e-043   4.00286018e-026   4.03088043e-035   2.46665293e-023\n",
      "   8.22272275e-060   9.25989932e-039   2.54952945e-043   1.38884705e-067\n",
      "   1.58779541e-031   1.73218264e-021   2.45620754e-098   5.40361696e-006]\n"
     ]
    }
   ],
   "source": [
    "prediction_entropies = stats.distributions.entropy(label_propogation_model.label_distributions_.T)\n",
    "print(prediction_entropies)"
   ]
  },
  {
   "cell_type": "code",
   "execution_count": 55,
   "metadata": {
    "collapsed": true
   },
   "outputs": [],
   "source": [
    "uncertainty_index = np.argsort(prediction_entropies)[-5:]\n",
    "delete_indices = np.array([])"
   ]
  },
  {
   "cell_type": "code",
   "execution_count": 56,
   "metadata": {
    "collapsed": false
   },
   "outputs": [
    {
     "data": {
      "text/plain": [
       "<matplotlib.text.Text at 0x7f778001fcd0>"
      ]
     },
     "execution_count": 56,
     "metadata": {},
     "output_type": "execute_result"
    }
   ],
   "source": [
    "figure.text(0.05,(1-(i+1)* .183), \n",
    "    \"model %d\\n\\nfit with \\n%d labels\" %\n",
    "        ((i+1), i*5 + 10), size = 10)"
   ]
  },
  {
   "cell_type": "code",
   "execution_count": 59,
   "metadata": {
    "collapsed": false,
    "scrolled": true
   },
   "outputs": [],
   "source": [
    "for index, image_index in enumerate(uncertainty_index):\n",
    "    image = images[image_index]\n",
    "    subtitle = figure.add_subplot(5,5,index +1 + (5*i))\n",
    "    subtitle.imshow(image, cmap=plt.cm.gray_r)\n",
    "    subtitle.set_title('predict: %i\\ntrue: %i' % (\n",
    "        label_propogation_model.transduction_[image_index],\n",
    "        y[image_index]),size =10)\n",
    "    subtitle.axis('off')\n",
    "    delete_index, = np.where(unlabeled_points == image_index)\n",
    "    delete_indices = np.concatenate((delete_indices, delete_index))\n",
    "unlabeled_points = np.delete(unlabeled_points,delete_indices)\n",
    "total_points += 5 "
   ]
  },
  {
   "cell_type": "code",
   "execution_count": 60,
   "metadata": {
    "collapsed": false
   },
   "outputs": [],
   "source": [
    "figure.suptitle(\"Active Learning with Label Propagation. \\nRows show 5 most\"\n",
    "                \"uncertain labels to learn wtih the next model.\")\n",
    "plt.subplots_adjust(0.12, 0.03, 0.9, 0.8, 0.2, 0.45)\n",
    "plt.show()"
   ]
  },
  {
   "cell_type": "code",
   "execution_count": null,
   "metadata": {
    "collapsed": true
   },
   "outputs": [],
   "source": []
  }
 ],
 "metadata": {
  "kernelspec": {
   "display_name": "Python 2",
   "language": "python",
   "name": "python2"
  },
  "language_info": {
   "codemirror_mode": {
    "name": "ipython",
    "version": 2
   },
   "file_extension": ".py",
   "mimetype": "text/x-python",
   "name": "python",
   "nbconvert_exporter": "python",
   "pygments_lexer": "ipython2",
   "version": "2.7.6"
  }
 },
 "nbformat": 4,
 "nbformat_minor": 0
}
