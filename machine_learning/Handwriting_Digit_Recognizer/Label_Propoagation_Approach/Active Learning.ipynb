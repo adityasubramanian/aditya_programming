{
 "cells": [
  {
   "cell_type": "code",
   "execution_count": 1,
   "metadata": {
    "collapsed": true
   },
   "outputs": [],
   "source": [
    "import numpy as np\n",
    "import matplotlib.pyplot as plt\n",
    "from scipy import stats\n",
    "from sklearn import datasets\n",
    "from sklearn.semi_supervised import label_propagation\n",
    "from sklearn.metrics import classification_report, confusion_matrix "
   ]
  },
  {
   "cell_type": "code",
   "execution_count": 5,
   "metadata": {
    "collapsed": true
   },
   "outputs": [],
   "source": [
    "problem_data = datasets.load_digits()\n",
    "rng = np.random.RandomState(0)\n",
    "threshold = np.arange(len(problem_data.data))\n",
    "rng.shuffle(threshold)"
   ]
  },
  {
   "cell_type": "code",
   "execution_count": 11,
   "metadata": {
    "collapsed": false
   },
   "outputs": [],
   "source": [
    "x = problem_data.data[threshold[:200]]\n",
    "y = problem_data.target[threshold[:200]]\n",
    "images= problem_data.images[threshold[:200]]\n",
    "\n",
    "if (len(x) == len(y)):\n",
    "    total_samples = len(x)\n",
    "    total_points = 10\n",
    "else: \n",
    "    total_samples = null \n",
    "    total_points = null "
   ]
  },
  {
   "cell_type": "code",
   "execution_count": 9,
   "metadata": {
    "collapsed": true
   },
   "outputs": [],
   "source": [
    "unlabeled_points = np.arange(total_samples)[total_points:]\n",
    "figure = plt.figure() "
   ]
  },
  {
   "cell_type": "code",
   "execution_count": null,
   "metadata": {
    "collapsed": true
   },
   "outputs": [],
   "source": [
    "for i in range(5):\n",
    "    train_y = np.copy(y)\n",
    "    train_y[unlabeled_points] = -1\n",
    "    label_propogation_model = label_propagation.LabelSpreading(gamma=0.25,\n",
    "                                                              max_iter=5)\n",
    "    label_propogation_model.fit(x,y_train)\n",
    "    predicted_labels = label_propogation_model.transduction_[unlabeled_points]\n",
    "    accurate_labels = y[unlabeled_points]\n",
    "    \n",
    "    confusion = confusion_matrix(accurate_labels, predicted_labels,\n",
    "                                labels = label_propogation_model.classes_)\n",
    "    \n",
    "    "
   ]
  }
 ],
 "metadata": {
  "kernelspec": {
   "display_name": "Python 2",
   "language": "python",
   "name": "python2"
  },
  "language_info": {
   "codemirror_mode": {
    "name": "ipython",
    "version": 2
   },
   "file_extension": ".py",
   "mimetype": "text/x-python",
   "name": "python",
   "nbconvert_exporter": "python",
   "pygments_lexer": "ipython2",
   "version": "2.7.6"
  }
 },
 "nbformat": 4,
 "nbformat_minor": 0
}
