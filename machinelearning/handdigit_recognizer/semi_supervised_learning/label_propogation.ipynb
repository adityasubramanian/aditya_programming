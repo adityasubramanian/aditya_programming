{
 "cells": [
  {
   "cell_type": "code",
   "execution_count": 2,
   "metadata": {
    "collapsed": false
   },
   "outputs": [],
   "source": [
    "import numpy as np\n",
    "import matplotlib.pyplot as plt \n",
    "\n",
    "from scipy import stats\n",
    "from sklearn import datasets\n",
    "from sklearn.semi_supervised import label_propagation\n",
    "\n",
    "from sklearn.metrics import confusion_matrix, classification_report \n"
   ]
  },
  {
   "cell_type": "code",
   "execution_count": 3,
   "metadata": {
    "collapsed": false
   },
   "outputs": [
    {
     "name": "stdout",
     "output_type": "stream",
     "text": [
      "<mtrand.RandomState object at 0x7fdadb954d10>\n",
      "[1081 1707  927 ..., 1653  559  684]\n",
      "None\n"
     ]
    }
   ],
   "source": [
    "digits = datasets.load_digits()\n",
    "rng = np.random.RandomState(0) # sets the seed()\n",
    "indices = np.arange(len(digits.data))  # provides equally spaced intervals between the length of the data digits\n",
    "rng.shuffle(indices)\n",
    "\n",
    "print(rng)\n",
    "print(indices)\n",
    "print(rng.shuffle(indices))\n"
   ]
  },
  {
   "cell_type": "code",
   "execution_count": 4,
   "metadata": {
    "collapsed": false
   },
   "outputs": [],
   "source": [
    "X = digits.data[indices[:330]]\n",
    "y = digits.target[indices[:330]]\n",
    "images = digits.images[indices[:330]]\n",
    "\n",
    "n_total_samples = len(y)\n",
    "n_labeled_points = 30\n",
    "\n",
    "indices = np.arange(n_total_samples)\n",
    "\n",
    "unlabeled_set = indices[n_labeled_points:]\n",
    "\n",
    "# shuffle everything around\n",
    "y_train = np.copy(y)\n",
    "y_train[unlabeled_set] = -1"
   ]
  },
  {
   "cell_type": "code",
   "execution_count": 7,
   "metadata": {
    "collapsed": false
   },
   "outputs": [
    {
     "name": "stdout",
     "output_type": "stream",
     "text": [
      "Label Spreading model: 30 labeled & 300 unlabeled points (330 total)\n",
      "             precision    recall  f1-score   support\n",
      "\n",
      "          0       0.89      0.96      0.93        26\n",
      "          1       0.79      0.84      0.81        31\n",
      "          2       0.89      0.89      0.89        28\n",
      "          3       1.00      0.65      0.78        31\n",
      "          4       1.00      0.53      0.69        38\n",
      "          5       0.67      1.00      0.81        31\n",
      "          6       0.97      1.00      0.98        28\n",
      "          7       0.84      0.81      0.82        26\n",
      "          8       0.78      0.91      0.84        32\n",
      "          9       0.56      0.66      0.60        29\n",
      "\n",
      "avg / total       0.84      0.81      0.81       300\n",
      "\n"
     ]
    }
   ],
   "source": [
    "label_propogation_model = label_propagation.LabelSpreading(gamma=0.25, max_iter=5)\n",
    "label_propogation_model.fit(X,y_train)\n",
    "\n",
    "predicted_models = label_propogation_model.transduction_[unlabeled_set] \n",
    "true_labels = y[unlabeled_set]\n",
    "\n",
    "confusion_matrix_data = confusion_matrix(true_labels, predicted_models, labels = label_propogation_model.classes_) \n",
    "\n",
    "print(\"Label Spreading model: %d labeled & %d unlabeled points (%d total)\" % (n_labeled_points, n_total_samples - \n",
    "                                                                              n_labeled_points, n_total_samples)) \n",
    "print(classification_report(true_labels, predicted_models))\n",
    "\n",
    "                                                            \n"
   ]
  },
  {
   "cell_type": "code",
   "execution_count": 11,
   "metadata": {
    "collapsed": false
   },
   "outputs": [
    {
     "name": "stdout",
     "output_type": "stream",
     "text": [
      "Confusion Matrix:\n",
      "[[25  0  0  0  0  0  0  0  0  1]\n",
      " [ 0 26  3  0  0  1  1  0  0  0]\n",
      " [ 0  0 25  0  0  0  0  0  3  0]\n",
      " [ 0  0  0 20  0  6  0  1  4  0]\n",
      " [ 2  3  0  0 20  0  0  3  0 10]\n",
      " [ 0  0  0  0  0 31  0  0  0  0]\n",
      " [ 0  0  0  0  0  0 28  0  0  0]\n",
      " [ 0  0  0  0  0  0  0 21  1  4]\n",
      " [ 0  2  0  0  0  1  0  0 29  0]\n",
      " [ 1  2  0  0  0  7  0  0  0 19]]\n"
     ]
    }
   ],
   "source": [
    "print \"Confusion Matrix:\"\n",
    "print confusion_matrix_data"
   ]
  },
  {
   "cell_type": "code",
   "execution_count": 16,
   "metadata": {
    "collapsed": true
   },
   "outputs": [],
   "source": [
    "prediction_entropies = stats.distributions.entropy(label_propogation_model.label_distributions_.T) \n",
    "uncertainity = np.argsort(prediction_entropies)[-10:]"
   ]
  },
  {
   "cell_type": "code",
   "execution_count": 19,
   "metadata": {
    "collapsed": false
   },
   "outputs": [],
   "source": [
    "figure = plt.figure(figsize=(7,5))\n",
    "for index, image_index in enumerate(uncertainity):\n",
    "    image = images[image_index]\n",
    "    sub = figure.add_subplot(2,5,index+1) \n",
    "    sub.imshow(image,cmap=plt.cm.gray_r)\n",
    "    plt.xticks([])\n",
    "    plt.yticks([])\n",
    "    sub.set_title('predict: %i\\ntrue: %i' % (label_propogation_model.transduction_[image_index], y[image_index]))\n",
    "figure.suptitle('Semi supervised learning')\n",
    "plt.show() "
   ]
  },
  {
   "cell_type": "code",
   "execution_count": null,
   "metadata": {
    "collapsed": true
   },
   "outputs": [],
   "source": []
  }
 ],
 "metadata": {
  "kernelspec": {
   "display_name": "Python 2",
   "language": "python",
   "name": "python2"
  },
  "language_info": {
   "codemirror_mode": {
    "name": "ipython",
    "version": 2
   },
   "file_extension": ".py",
   "mimetype": "text/x-python",
   "name": "python",
   "nbconvert_exporter": "python",
   "pygments_lexer": "ipython2",
   "version": "2.7.9"
  }
 },
 "nbformat": 4,
 "nbformat_minor": 0
}
