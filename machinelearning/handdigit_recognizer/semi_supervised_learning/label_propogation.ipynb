{
 "cells": [
  {
   "cell_type": "code",
   "execution_count": 2,
   "metadata": {
    "collapsed": false
   },
   "outputs": [],
   "source": [
    "import numpy as np\n",
    "import matplotlib.pyplot as plt \n",
    "\n",
    "from scipy import stats\n",
    "from sklearn import datasets\n",
    "from sklearn.semi_supervised import label_propagation\n",
    "\n",
    "from sklearn.metrics import confusion_matrix, classification_report \n"
   ]
  },
  {
   "cell_type": "code",
   "execution_count": 5,
   "metadata": {
    "collapsed": false
   },
   "outputs": [
    {
     "name": "stdout",
     "output_type": "stream",
     "text": [
      "<mtrand.RandomState object at 0x105ea3a80>\n",
      "[1081 1707  927 ..., 1653  559  684]\n",
      "None\n"
     ]
    }
   ],
   "source": [
    "digits = datasets.load_digits()\n",
    "rng = np.random.RandomState(0) # sets the seed()\n",
    "indices = np.arange(len(digits.data))  # provides equally spaced intervals between the length of the data digits\n",
    "rng.shuffle(indices)\n",
    "\n",
    "print(rng)\n",
    "print(indices)\n",
    "print(rng.shuffle(indices))\n"
   ]
  },
  {
   "cell_type": "code",
   "execution_count": null,
   "metadata": {
    "collapsed": true
   },
   "outputs": [],
   "source": [
    "\n",
    "X = digits.data[indices[:330]]\n",
    "y = digits.target[indices[:330]]\n",
    "images = digits.images[indices[:330]]\n",
    "\n",
    "n_total_samples = len(y)\n",
    "n_labeled_points = 30\n",
    "\n",
    "indices = np.arange(n_total_samples)\n",
    "\n",
    "unlabeled_set = indices[n_labeled_points:]\n",
    "\n",
    "# shuffle everything around\n",
    "y_train = np.copy(y)\n",
    "y_train[unlabeled_set] = -1"
   ]
  }
 ],
 "metadata": {
  "kernelspec": {
   "display_name": "Python 2",
   "language": "python",
   "name": "python2"
  },
  "language_info": {
   "codemirror_mode": {
    "name": "ipython",
    "version": 2
   },
   "file_extension": ".py",
   "mimetype": "text/x-python",
   "name": "python",
   "nbconvert_exporter": "python",
   "pygments_lexer": "ipython2",
   "version": "2.7.10"
  }
 },
 "nbformat": 4,
 "nbformat_minor": 0
}
